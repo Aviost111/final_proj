{
 "cells": [
  {
   "cell_type": "code",
   "execution_count": null,
   "id": "3251a6cf",
   "metadata": {},
   "outputs": [],
   "source": [
    "import cv2\n",
    "import numpy as np\n",
    "import os\n",
    "data_path = r\"NOT_REAL_DATA\\\\\"\n",
    "# Load images using OpenCV\n",
    "image_list = []\n",
    "for filename in os.listdir(data_path):\n",
    "    if filename.endswith('.jpg') or filename.endswith('.png') or filename.endswith('.tif'):\n",
    "        img = cv2.imread(os.path.join(data_path, filename))\n",
    "        image_list.append(img)"
   ]
  },
  {
   "cell_type": "code",
   "execution_count": 2,
   "id": "17ec666a",
   "metadata": {},
   "outputs": [],
   "source": [
    "\n",
    "def crop_coin(image):  # Function now expects an OpenCV image directly\n",
    "    \"\"\"Crops the image to include only the coin and a little bit of black around it.\n",
    "\n",
    "    Args:\n",
    "        image (numpy.ndarray): The OpenCV image.\n",
    "\n",
    "    Returns:\n",
    "        numpy.ndarray: The cropped image.\n",
    "    \"\"\"\n",
    "\n",
    "    # Convert the image to grayscale\n",
    "    gray = cv2.cvtColor(image, cv2.COLOR_BGR2GRAY)\n",
    "\n",
    "    # Apply adaptive thresholding to isolate the coin\n",
    "    thresh = cv2.adaptiveThreshold(gray, 255, cv2.ADAPTIVE_THRESH_MEAN_C, cv2.THRESH_BINARY, 11, 2)\n",
    "\n",
    "    # Find contours in the thresholded image\n",
    "    _, contours, _ = cv2.findContours(thresh, cv2.RETR_EXTERNAL, cv2.CHAIN_APPROX_SIMPLE)\n",
    "\n",
    "    # Find the contour that is most likely the coin\n",
    "    coin_contour = None\n",
    "    for contour in contours:\n",
    "        x, y, w, h = cv2.boundingRect(contour)\n",
    "        # Check if the contour is circular and has a reasonable size\n",
    "        if cv2.contourArea(contour) > 100 and w / h >= 0.8 and w / h <= 1.2:\n",
    "            coin_contour = contour\n",
    "            break\n",
    "\n",
    "    # If a coin contour was found, crop the image\n",
    "    if coin_contour is not None:\n",
    "        x, y, w, h = cv2.boundingRect(coin_contour)\n",
    "        # Add a small margin to the bounding box\n",
    "        margin = 10\n",
    "        cropped_image = image[y - margin:y + h + margin, x - margin:x + w + margin]\n",
    "    else:\n",
    "        print(\"Coin not found in image: Unable to determine filename\") \n",
    "        cropped_image = None\n",
    "\n",
    "    return cropped_image\n",
    "\n",
    "\n",
    "# # Replace 'path/to/image.jpg' with the path to your image\n",
    "# cropped_image = crop_coin('Image sent')\n",
    "\n",
    "# # Display the cropped image\n",
    "# if cropped_image is not None:\n",
    "#     cv2.imshow(\"Cropped image\", cropped_image)\n",
    "#     cv2.waitKey(0)\n",
    "#     cv2.destroyAllWindows()"
   ]
  },
  {
   "cell_type": "code",
   "execution_count": null,
   "id": "c67af517",
   "metadata": {},
   "outputs": [],
   "source": [
    "# # Process images\n",
    "# cropped_images = []\n",
    "# for img in image_list:\n",
    "#     cropped_image = crop_coin(img)  # Pass the image directly\n",
    "#     cropped_images.append(cropped_image)\n",
    "\n",
    "# Process the first image separately\n",
    "cropped = crop_coin(image_list[0])"
   ]
  },
  {
   "cell_type": "code",
   "execution_count": null,
   "id": "379db1b3",
   "metadata": {},
   "outputs": [],
   "source": []
  }
 ],
 "metadata": {
  "kernelspec": {
   "display_name": "Python 3 (ipykernel)",
   "language": "python",
   "name": "python3"
  },
  "language_info": {
   "codemirror_mode": {
    "name": "ipython",
    "version": 3
   },
   "file_extension": ".py",
   "mimetype": "text/x-python",
   "name": "python",
   "nbconvert_exporter": "python",
   "pygments_lexer": "ipython3",
   "version": "3.9.12"
  }
 },
 "nbformat": 4,
 "nbformat_minor": 5
}
