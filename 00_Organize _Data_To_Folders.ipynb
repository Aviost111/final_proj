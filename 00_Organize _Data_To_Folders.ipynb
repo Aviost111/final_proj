{
 "cells": [
  {
   "cell_type": "code",
   "execution_count": 4,
   "metadata": {},
   "outputs": [],
   "source": [
    "import os\n",
    "import pandas as pd\n",
    "import shutil\n",
    "\n",
    "# Define paths\n",
    "data_path = \"Combined_images\" \n",
    "csv_file_path = \"image_labels.csv\"  \n",
    "output_path = \"Organized_images\"  # Folder to store organized images\n",
    "\n",
    "# Read CSV file\n",
    "df = pd.read_csv(csv_file_path, names=['image', 'a', 'b', 'label'])"
   ]
  },
  {
   "cell_type": "code",
   "execution_count": 7,
   "metadata": {},
   "outputs": [],
   "source": [
    "# Function to extract the number from the image filename\n",
    "def extract_number_from_filename(filename):\n",
    "    return filename.split('_')[1].split('.')[0]\n",
    "\n",
    "# Create a dictionary from the CSV for easy lookup\n",
    "image_label_dict = {}\n",
    "for _, row in df.iterrows():\n",
    "    image_num = row['image']\n",
    "    label = row['label']\n",
    "    image_label_dict[image_num] = label"
   ]
  },
  {
   "cell_type": "code",
   "execution_count": 9,
   "metadata": {},
   "outputs": [],
   "source": [
    "# Ensure output directory exists\n",
    "os.makedirs(output_path, exist_ok=True)"
   ]
  },
  {
   "cell_type": "code",
   "execution_count": 22,
   "metadata": {},
   "outputs": [
    {
     "name": "stdout",
     "output_type": "stream",
     "text": [
      "Images have been organized and renamed successfully.\n"
     ]
    }
   ],
   "source": [
    "# Iterate over each file in the specified directory\n",
    "for filename in os.listdir(data_path):\n",
    "    image_num = extract_number_from_filename(filename)\n",
    "    if int(image_num) in image_label_dict:\n",
    "        label = image_label_dict[int(image_num)]\n",
    "        if '?' in label:  # Skip images with missing labels\n",
    "            continue\n",
    "        new_filename = f\"{image_num}_{label}.jpg\"  # Assuming you want to convert all images to .jpg\n",
    "        class_folder = os.path.join(output_path, label)\n",
    "        os.makedirs(class_folder, exist_ok=True)\n",
    "        src_path = os.path.join(data_path, filename)\n",
    "        dest_path = os.path.join(class_folder, new_filename)\n",
    "        shutil.copy(src_path, dest_path)  # Use copy instead of move to avoid modifying the original dataset\n",
    "\n",
    "print(\"Images have been organized and renamed successfully.\")"
   ]
  }
 ],
 "metadata": {
  "kernelspec": {
   "display_name": "Python 3",
   "language": "python",
   "name": "python3"
  },
  "language_info": {
   "codemirror_mode": {
    "name": "ipython",
    "version": 3
   },
   "file_extension": ".py",
   "mimetype": "text/x-python",
   "name": "python",
   "nbconvert_exporter": "python",
   "pygments_lexer": "ipython3",
   "version": "3.12.1"
  }
 },
 "nbformat": 4,
 "nbformat_minor": 2
}
