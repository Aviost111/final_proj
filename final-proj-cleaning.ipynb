{
 "cells": [
  {
   "cell_type": "code",
   "execution_count": 5,
   "id": "5dfd9e72-6ced-4742-93a2-61f13767b3f9",
   "metadata": {},
   "outputs": [],
   "source": [
    "import cv2\n",
    "import numpy as np\n",
    "import os\n",
    "import matplotlib.pyplot as plt\n",
    "import matplotlib.image as mpimg\n",
    "import requests\n",
    "from IPython.display import Image, display\n",
    "from io import BytesIO\n",
    "from PIL import Image\n"
   ]
  },
  {
   "cell_type": "code",
   "execution_count": null,
   "id": "33059f2e-e784-452f-9030-33ec34afac7b",
   "metadata": {},
   "outputs": [],
   "source": []
  },
  {
   "cell_type": "code",
   "execution_count": null,
   "id": "2726623c-cad7-434d-a897-3bf74d94f7d9",
   "metadata": {},
   "outputs": [],
   "source": [
    "data_path = r\"C:\\Users\\avoav\\OneDrive - Ariel University\\year 3\\final project\\DATA_PHOTOS_IAA_NUMBERS\"\n",
    "# Load images using OpenCV\n",
    "image_list = []\n",
    "for filename in os.listdir(data_path):\n",
    "    if filename.endswith('.jpg') or filename.endswith('.png') or filename.endswith('.tif'):\n",
    "        img = cv2.imread(os.path.join(data_path, filename))\n",
    "        image_list.append(img)"
   ]
  },
  {
   "cell_type": "code",
   "execution_count": null,
   "id": "6e678346-6f3a-47da-8c68-f621070cf752",
   "metadata": {},
   "outputs": [],
   "source": [
    "fig = plt.figure(figsize=(5, 6))\n",
    "  \n",
    "fig.add_subplot(1, 1, 1)\n",
    "plt.imshow(image_list[0])"
   ]
  },
  {
   "cell_type": "code",
   "execution_count": null,
   "id": "9c96ea89-07df-4950-a987-78e88db5a016",
   "metadata": {},
   "outputs": [],
   "source": [
    "# base_url = 'https://github.com/Aviost111/final_proj/tree/main/REAL_DATA/'\n",
    "# start_number = 150006  # Starting number\n",
    "# end_number = 151051  # Ending number\n",
    "# num_images_per_group = 2  # Number of images per group (e.g., 150006.1.tif and 150006.2.tif)\n",
    "\n",
    "# image_urls = []\n",
    "\n",
    "# for i in range(start_number, end_number + 1):\n",
    "#     for j in range(1, num_images_per_group + 1):\n",
    "#         image_urls.append(f'{base_url}{i}.{j}.tif')\n"
   ]
  },
  {
   "cell_type": "code",
   "execution_count": null,
   "id": "29c00e1b-0a01-48fe-94ec-a7dfae1393f3",
   "metadata": {},
   "outputs": [],
   "source": [
    "# len(image_urls)"
   ]
  },
  {
   "cell_type": "markdown",
   "id": "30f9ace4-c1ab-4600-a241-f193f44d1d41",
   "metadata": {},
   "source": [
    "## First task"
   ]
  },
  {
   "cell_type": "markdown",
   "id": "c7d574b5-a414-4869-8ae5-371fae1e522f",
   "metadata": {},
   "source": [
    "Isolate the coin from the image (remove the ruler and the note)."
   ]
  },
  {
   "cell_type": "code",
   "execution_count": null,
   "id": "921ff3e2-0cbf-4503-b7f0-c2953d6f1235",
   "metadata": {},
   "outputs": [],
   "source": [
    "def crop_coin_simple(img, output_path):\n",
    "\n",
    "    # Convert the image to HSV color space\n",
    "    hsv = cv2.cvtColor(img, cv2.COLOR_BGR2HSV)\n",
    "\n",
    "    # Define the lower and upper bounds of the color range for the coin\n",
    "    lower_bound = np.array([20, 50, 50])  # Adjust these values based on the coin's color\n",
    "    upper_bound = np.array([30, 255, 255])\n",
    "\n",
    "    # Create a mask using the color range\n",
    "    mask = cv2.inRange(hsv, lower_bound, upper_bound)\n",
    "\n",
    "    # Find contours in the mask\n",
    "    contours, _ = cv2.findContours(mask, cv2.RETR_EXTERNAL, cv2.CHAIN_APPROX_SIMPLE)\n",
    "\n",
    "    # Choose the largest contour (assumed to be the coin)\n",
    "    largest_contour = max(contours, key=cv2.contourArea)\n",
    "    \n",
    "    # Find extreme points (leftmost, rightmost, topmost, bottommost) of the contour\n",
    "    leftmost = tuple(largest_contour[largest_contour[:,:,0].argmin()][0])\n",
    "    rightmost = tuple(largest_contour[largest_contour[:,:,0].argmax()][0])\n",
    "    topmost = tuple(largest_contour[largest_contour[:,:,1].argmin()][0])\n",
    "    bottommost = tuple(largest_contour[largest_contour[:,:,1].argmax()][0])\n",
    "\n",
    "    # Define the region of interest (ROI) using the coordinates of the bounding box\n",
    "    roi = img[topmost[1]:bottommost[1], leftmost[0]:rightmost[0]]\n",
    "\n",
    "    # Save the cropped region\n",
    "    cv2.imwrite(output_path, roi)\n",
    "            "
   ]
  },
  {
   "cell_type": "code",
   "execution_count": null,
   "id": "bebeee10-4b08-4b0e-a47a-596635f2a48d",
   "metadata": {},
   "outputs": [],
   "source": [
    "def crop_images(output_dir , image_list):\n",
    "    # Create output directory if it doesn't exist\n",
    "    if not os.path.exists(output_dir):\n",
    "        os.makedirs(output_dir)\n",
    "    \n",
    "    # Process each image in image_list\n",
    "    for idx, img in enumerate(image_list):\n",
    "        output_path = os.path.join(output_dir, f\"cropped_image_{idx}.jpg\")\n",
    "        crop_coin_simple(img, output_path)\n",
    "        #print(f\"Image {idx} cropped and saved to {output_path}\")\n"
   ]
  },
  {
   "cell_type": "code",
   "execution_count": null,
   "id": "d008ad12-2ec9-4b20-b29b-046a27a45eb0",
   "metadata": {},
   "outputs": [],
   "source": [
    "crop_images(\"REAL_DATA_CROPPED1\",image_list)"
   ]
  },
  {
   "cell_type": "code",
   "execution_count": 7,
   "id": "21bb8b9f-5c33-4434-a0fc-4bd02bc88d20",
   "metadata": {},
   "outputs": [],
   "source": [
    "def add_padding(image, target_size):\n",
    "    # Calculate padding dimensions\n",
    "    h, w = image.shape[:2]\n",
    "    target_h, target_w = target_size\n",
    "    pad_h = max(0, target_h - h)\n",
    "    pad_w = max(0, target_w - w)\n",
    "    \n",
    "    # Add padding to the image\n",
    "    padded_image = cv2.copyMakeBorder(image, 0, pad_h, 0, pad_w, cv2.BORDER_CONSTANT, value=(0, 0, 0))\n",
    "    \n",
    "    return padded_image \n",
    "    \n",
    "# Load images using OpenCV\n",
    "data_path = \"REAL_DATA_CROPPED1\"\n",
    "image_list = []\n",
    "max_height = 0\n",
    "max_width = 0\n",
    "\n",
    "# Determine maximum width and height\n",
    "for filename in os.listdir(data_path):\n",
    "    if filename.endswith('.jpg') or filename.endswith('.png') or filename.endswith('.tif'):\n",
    "        img = cv2.imread(os.path.join(data_path, filename))\n",
    "        h, w = img.shape[:2]\n",
    "        max_height = max(max_height, h)\n",
    "        max_width = max(max_width, w)\n",
    "        image_list.append(img)\n",
    "       \n",
    "# Add padding to each image\n",
    "padded_image_list = []\n",
    "for img in image_list:\n",
    "    padded_img = add_padding(img, (max_height, max_width))\n",
    "    padded_image_list.append(padded_img)\n",
    "\n",
    "# Save padded images to a new directory\n",
    "output_dir = \"REAL_DATA_Padded\"\n",
    "if not os.path.exists(output_dir):\n",
    "    os.makedirs(output_dir)\n",
    "\n",
    "for i, padded_img in enumerate(padded_image_list):\n",
    "    output_path = os.path.join(output_dir, f\"padded_image_{i}.jpg\")\n",
    "    cv2.imwrite(output_path, padded_img)\n"
   ]
  },
  {
   "cell_type": "code",
   "execution_count": 8,
   "id": "4dfe31b2-4dea-4552-87dd-faa7b4bdbaf7",
   "metadata": {},
   "outputs": [
    {
     "name": "stdout",
     "output_type": "stream",
     "text": [
      "All images have the same size.\n",
      "Size: (3122, 2983)\n"
     ]
    }
   ],
   "source": [
    "# Check if all images have the same size\n",
    "sizes = set()\n",
    "for img in padded_image_list:\n",
    "    sizes.add(img.shape[:2])\n",
    "\n",
    "if len(sizes) == 1:\n",
    "    print(\"All images have the same size.\")\n",
    "    print(\"Size:\", sizes.pop())\n",
    "else:\n",
    "    print(\"Images have different sizes.\")\n"
   ]
  },
  {
   "cell_type": "markdown",
   "id": "de6667c6-0775-4d86-bf7a-3c0bf0816aec",
   "metadata": {},
   "source": [
    "## combining two sides of each coin"
   ]
  },
  {
   "cell_type": "code",
   "execution_count": 4,
   "id": "405bf2cb-2be8-4206-acdf-35fd90db2058",
   "metadata": {},
   "outputs": [
    {
     "ename": "KeyboardInterrupt",
     "evalue": "",
     "output_type": "error",
     "traceback": [
      "\u001b[1;31m---------------------------------------------------------------------------\u001b[0m",
      "\u001b[1;31mKeyboardInterrupt\u001b[0m                         Traceback (most recent call last)",
      "Cell \u001b[1;32mIn[4], line 28\u001b[0m\n\u001b[0;32m     26\u001b[0m image2_path \u001b[38;5;241m=\u001b[39m os\u001b[38;5;241m.\u001b[39mpath\u001b[38;5;241m.\u001b[39mjoin(folder_path, image_files[i \u001b[38;5;241m+\u001b[39m \u001b[38;5;241m1\u001b[39m])\n\u001b[0;32m     27\u001b[0m output_path \u001b[38;5;241m=\u001b[39m os\u001b[38;5;241m.\u001b[39mpath\u001b[38;5;241m.\u001b[39mjoin(folder_path, \u001b[38;5;124mf\u001b[39m\u001b[38;5;124m\"\u001b[39m\u001b[38;5;124mcombined_\u001b[39m\u001b[38;5;132;01m{\u001b[39;00mi\u001b[38;5;132;01m}\u001b[39;00m\u001b[38;5;124m_\u001b[39m\u001b[38;5;132;01m{\u001b[39;00mi\u001b[38;5;250m \u001b[39m\u001b[38;5;241m+\u001b[39m\u001b[38;5;250m \u001b[39m\u001b[38;5;241m1\u001b[39m\u001b[38;5;132;01m}\u001b[39;00m\u001b[38;5;124m.jpg\u001b[39m\u001b[38;5;124m\"\u001b[39m)  \u001b[38;5;66;03m# Change the extension if needed\u001b[39;00m\n\u001b[1;32m---> 28\u001b[0m \u001b[43mcombine_images\u001b[49m\u001b[43m(\u001b[49m\u001b[43mimage1_path\u001b[49m\u001b[43m,\u001b[49m\u001b[43m \u001b[49m\u001b[43mimage2_path\u001b[49m\u001b[43m,\u001b[49m\u001b[43m \u001b[49m\u001b[43moutput_path\u001b[49m\u001b[43m)\u001b[49m\n",
      "Cell \u001b[1;32mIn[4], line 14\u001b[0m, in \u001b[0;36mcombine_images\u001b[1;34m(image1_path, image2_path, output_path)\u001b[0m\n\u001b[0;32m     11\u001b[0m combined_image \u001b[38;5;241m=\u001b[39m cv2\u001b[38;5;241m.\u001b[39mhconcat([image1, image2])\n\u001b[0;32m     13\u001b[0m \u001b[38;5;66;03m# Save the combined image\u001b[39;00m\n\u001b[1;32m---> 14\u001b[0m \u001b[43mcv2\u001b[49m\u001b[38;5;241;43m.\u001b[39;49m\u001b[43mimwrite\u001b[49m\u001b[43m(\u001b[49m\u001b[43moutput_path\u001b[49m\u001b[43m,\u001b[49m\u001b[43m \u001b[49m\u001b[43mcombined_image\u001b[49m\u001b[43m)\u001b[49m\n",
      "\u001b[1;31mKeyboardInterrupt\u001b[0m: "
     ]
    }
   ],
   "source": [
    "\n",
    "# Function to combine two images\n",
    "def combine_images(image1_path, image2_path, output_path):\n",
    "    # Load images\n",
    "    image1 = cv2.imread(image1_path)\n",
    "    image2 = cv2.imread(image2_path)\n",
    "\n",
    "    # Resize images to have the same dimensions (optional, depends on your use case)\n",
    "    image1 = cv2.resize(image1, (image2.shape[1], image2.shape[0]))\n",
    "\n",
    "    # Combine images horizontally\n",
    "    combined_image = cv2.hconcat([image1, image2])\n",
    "\n",
    "    # Save the combined image\n",
    "    cv2.imwrite(output_path, combined_image)\n",
    "\n",
    "# Path to your folder containing images\n",
    "folder_path = \"REAL_DATA_Padded\"\n",
    "\n",
    "# Get a list of image files in the folder\n",
    "image_files = [f for f in os.listdir(folder_path) if f.endswith(('.jpg', '.jpeg', '.png'))]\n",
    "\n",
    "# Iterate through pairs of images and combine them\n",
    "for i in range(0, len(image_files), 2):\n",
    "    if i + 1 < len(image_files):\n",
    "        image1_path = os.path.join(folder_path, image_files[i])\n",
    "        image2_path = os.path.join(folder_path, image_files[i + 1])\n",
    "        output_path = os.path.join(folder_path, f\"combined_{i}_{i + 1}.jpg\")  # Change the extension if needed\n",
    "        combine_images(image1_path, image2_path, output_path)\n"
   ]
  },
  {
   "cell_type": "code",
   "execution_count": null,
   "id": "17057881-0c00-4a39-b0ea-304d4c9db83a",
   "metadata": {},
   "outputs": [],
   "source": []
  }
 ],
 "metadata": {
  "kernelspec": {
   "display_name": "Python 3 (ipykernel)",
   "language": "python",
   "name": "python3"
  },
  "language_info": {
   "codemirror_mode": {
    "name": "ipython",
    "version": 3
   },
   "file_extension": ".py",
   "mimetype": "text/x-python",
   "name": "python",
   "nbconvert_exporter": "python",
   "pygments_lexer": "ipython3",
   "version": "3.12.2"
  }
 },
 "nbformat": 4,
 "nbformat_minor": 5
}
